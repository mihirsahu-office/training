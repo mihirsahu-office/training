{
  "nbformat": 4,
  "nbformat_minor": 0,
  "metadata": {
    "colab": {
      "name": "Untitled0.ipynb",
      "provenance": [],
      "authorship_tag": "ABX9TyOQLyD/7QVjzjpkVOoZyai2",
      "include_colab_link": true
    },
    "kernelspec": {
      "name": "python3",
      "display_name": "Python 3"
    },
    "language_info": {
      "name": "python"
    }
  },
  "cells": [
    {
      "cell_type": "markdown",
      "metadata": {
        "id": "view-in-github",
        "colab_type": "text"
      },
      "source": [
        "<a href=\"https://colab.research.google.com/github/mihirsahu-office/training/blob/branch-0.1/machine-learning/Udacity-FirstModel-Cel-Fah-Conv.ipynb\" target=\"_parent\"><img src=\"https://colab.research.google.com/assets/colab-badge.svg\" alt=\"Open In Colab\"/></a>"
      ]
    },
    {
      "cell_type": "code",
      "execution_count": 5,
      "metadata": {
        "id": "bMWL67wtCqRw"
      },
      "outputs": [],
      "source": [
        "#IMPORT DEPENDENCIES\n",
        "import tensorflow as tf\n",
        "import numpy as np\n",
        "import logging"
      ]
    },
    {
      "cell_type": "code",
      "source": [
        "#SET UP TRAINING DATA\n",
        "#Feature — The input(s) to our model. In this case, a single value — the degrees in Celsius.\n",
        "#Labels — The output our model predicts. In this case, a single value — the degrees in Fahrenheit.\n",
        "#Example — A pair of inputs/outputs used during training. \n",
        "#In our case a pair of values from celsius_q and fahrenheit_a at a specific index, such as (22,72).\n",
        "celsius_q    = np.array([-40, -10,  0,  8, 15, 22,  38],  dtype=float)\n",
        "fahrenheit_a = np.array([-40,  14, 32, 46, 59, 72, 100],  dtype=float)\n",
        "for i,c in enumerate(celsius_q):\n",
        "  print(\"{} degrees Celsius = {} degrees Fahrenheit\".format(c, fahrenheit_a[i]))"
      ],
      "metadata": {
        "id": "YuVReIwJHC5r"
      },
      "execution_count": null,
      "outputs": []
    },
    {
      "cell_type": "code",
      "source": [
        "# BUILD LAYER\n",
        "#input_shape=[1] — This specifies that the input to this layer is single value\n",
        "#units=1 — This specifies the number of neurons in the layer. \n",
        "l0 = tf.keras.layers.Dense(units=1, input_shape=[1]) "
      ],
      "metadata": {
        "id": "U7TcppaSEyL2"
      },
      "execution_count": 3,
      "outputs": []
    },
    {
      "cell_type": "code",
      "source": [
        "# ASSEMBLE LAYERS INTO MODEL\n",
        "#This is a Model which encapsulates the layer.  Here model has single layer\n",
        "\n",
        "model = tf.keras.Sequential([l0])"
      ],
      "metadata": {
        "id": "uLXKHoT7FLSn"
      },
      "execution_count": 4,
      "outputs": []
    },
    {
      "cell_type": "code",
      "source": [
        "#COMPILE THE MODEL WITH LOSS AND OPTIMIZER FUNCTIONS\n",
        "#Loss function — A way of measuring how far off predictions are from the desired outcome. (The measured difference is called the \"loss\".)\n",
        "#Optimizer function — A way of adjusting internal values in order to reduce the loss.\n",
        "#mean squared error- is standard Loss function for simple models\n",
        "#Optimizer function - is standard optimizer function for simple models\n",
        "model.compile(loss='mean_squared_error',\n",
        "              optimizer=tf.keras.optimizers.Adam(0.1))"
      ],
      "metadata": {
        "id": "WLQ7d5ejFXRF"
      },
      "execution_count": 7,
      "outputs": []
    },
    {
      "cell_type": "code",
      "source": [
        "#TRAIN MODEL\n",
        "#Train the model by calling the fit method.\n",
        "\n",
        "history = model.fit(celsius_q, fahrenheit_a, epochs=500, verbose=False)\n",
        "print(\"Finished training the model\")"
      ],
      "metadata": {
        "colab": {
          "base_uri": "https://localhost:8080/"
        },
        "id": "-eCteBnkHi_7",
        "outputId": "95febc7b-391b-4a94-fadc-9be44087f04b"
      },
      "execution_count": 9,
      "outputs": [
        {
          "output_type": "stream",
          "name": "stdout",
          "text": [
            "Finished training the model\n"
          ]
        }
      ]
    },
    {
      "cell_type": "code",
      "source": [
        "#DISPLAY TRAINING STATISTICS\n",
        "# Matplotlib to visualize this.\n",
        "import matplotlib.pyplot as plt\n",
        "plt.xlabel('Epoch Number')\n",
        "plt.ylabel(\"Loss Magnitude\")\n",
        "plt.plot(history.history['loss'])"
      ],
      "metadata": {
        "colab": {
          "base_uri": "https://localhost:8080/",
          "height": 296
        },
        "id": "--cW4lVsKk7R",
        "outputId": "4d15fdab-2458-46f6-da44-0faf52504d3f"
      },
      "execution_count": 10,
      "outputs": [
        {
          "output_type": "execute_result",
          "data": {
            "text/plain": [
              "[<matplotlib.lines.Line2D at 0x7fde3ced0dd0>]"
            ]
          },
          "metadata": {},
          "execution_count": 10
        },
        {
          "output_type": "display_data",
          "data": {
            "text/plain": [
              "<Figure size 432x288 with 1 Axes>"
            ],
            "image/png": "[encoded data removed]"
          },
          "metadata": {
            "needs_background": "light"
          }
        }
      ]
    },
    {
      "cell_type": "code",
      "source": [
        "# PREDICT USING MODEL\n",
        "print(model.predict([102.0]))"
      ],
      "metadata": {
        "colab": {
          "base_uri": "https://localhost:8080/"
        },
        "id": "a3hxk3YRLRsK",
        "outputId": "c6371c56-0803-47e5-e55e-d9fdda783ba9"
      },
      "execution_count": 11,
      "outputs": [
        {
          "output_type": "stream",
          "name": "stdout",
          "text": [
            "[[214.94461]]\n"
          ]
        }
      ]
    },
    {
      "cell_type": "code",
      "source": [
        "# LOOKING INTO LAYERS FOR WEIGHT\n",
        "print(\"These are the layer variables: {}\".format(l0.get_weights()))"
      ],
      "metadata": {
        "colab": {
          "base_uri": "https://localhost:8080/"
        },
        "id": "D2TYfMHBLg--",
        "outputId": "3ba65777-c388-4f2f-dcfa-930725035b50"
      },
      "execution_count": 12,
      "outputs": [
        {
          "output_type": "stream",
          "name": "stdout",
          "text": [
            "These are the layer variables: [array([[1.8269413]], dtype=float32), array([28.596596], dtype=float32)]\n"
          ]
        }
      ]
    },
    {
      "cell_type": "code",
      "source": [
        "#TRYING WITH MORE VARIABLES\n",
        "l0 = tf.keras.layers.Dense(units=4, input_shape=[1])\n",
        "l1 = tf.keras.layers.Dense(units=4)\n",
        "l2 = tf.keras.layers.Dense(units=1)\n",
        "model = tf.keras.Sequential([l0, l1, l2])\n",
        "model.compile(loss='mean_squared_error', optimizer=tf.keras.optimizers.Adam(0.1))\n",
        "model.fit(celsius_q, fahrenheit_a, epochs=500, verbose=False)\n",
        "print(\"Finished training the model\")\n",
        "print(model.predict([100.0]))\n",
        "print(\"Model predicts that 100 degrees Celsius is: {} degrees Fahrenheit\".format(model.predict([100.0])))\n",
        "print(\"These are the l0 variables: {}\".format(l0.get_weights()))\n",
        "print(\"These are the l1 variables: {}\".format(l1.get_weights()))\n",
        "print(\"These are the l2 variables: {}\".format(l2.get_weights()))"
      ],
      "metadata": {
        "colab": {
          "base_uri": "https://localhost:8080/"
        },
        "id": "XEON9vUeMfMr",
        "outputId": "03b9fc78-2ffe-46b9-c5c5-00d3af1c13b8"
      },
      "execution_count": 13,
      "outputs": [
        {
          "output_type": "stream",
          "name": "stdout",
          "text": [
            "Finished training the model\n",
            "[[211.7474]]\n",
            "Model predicts that 100 degrees Celsius is: [[211.7474]] degrees Fahrenheit\n",
            "These are the l0 variables: [array([[-0.11905264,  0.06590624,  0.633121  , -0.49436837]],\n",
            "      dtype=float32), array([-2.6443937, -2.5001807,  2.6243815, -2.7980592], dtype=float32)]\n",
            "These are the l1 variables: [array([[ 0.03087137, -0.9371899 , -0.5370364 ,  0.59567875],\n",
            "       [-0.33657515, -1.2324603 , -0.8352609 ,  0.31236738],\n",
            "       [-0.7752913 ,  0.51612586, -0.11369096, -0.54879993],\n",
            "       [-0.5159327 , -0.8959234 , -0.8582004 ,  0.3455429 ]],\n",
            "      dtype=float32), array([-2.2690132,  2.7587516,  2.704156 , -2.7315507], dtype=float32)]\n",
            "These are the l2 variables: [array([[-0.4775646 ],\n",
            "       [ 0.8763297 ],\n",
            "       [ 1.3303281 ],\n",
            "       [-0.86424536]], dtype=float32), array([2.7362826], dtype=float32)]\n"
          ]
        }
      ]
    }
  ]
}